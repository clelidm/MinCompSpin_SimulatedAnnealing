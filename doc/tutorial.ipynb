{
 "cells": [
  {
   "cell_type": "code",
   "execution_count": 16,
   "id": "bb6be995",
   "metadata": {},
   "outputs": [],
   "source": [
    "import subprocess\n",
    "import os"
   ]
  },
  {
   "cell_type": "markdown",
   "id": "a7f5c601",
   "metadata": {},
   "source": [
    "Last updated: 13-05-2023\n",
    "\n",
    "## Simulated annealing algorithm for minimally complex models\n",
    "\n",
    "Before starting, make sure to compile the source code by running the `compile.bat` file in the root folder or by running the command \n",
    "\n",
    "`g++ -std=c++11 -O3 -Wall ./src/*.cpp -o ./bin/saa.exe`\n",
    "\n",
    "If the files have been downloaded from github, the latest binary file should be in the `./bin` folder.\n",
    "\n"
   ]
  },
  {
   "cell_type": "markdown",
   "id": "16a10be8",
   "metadata": {},
   "source": [
    "### Running the algorithm\n",
    "\n",
    "Some example data has been provided in the `./input/data/` folder. To run the algorithm with all default settings on the dataset `./input/data/my_data_n20_N1000.dat` we run the following command: \n",
    "\n",
    "`[RELATIVE_PATH]/saa.exe n -i DATAFILE`\n",
    "\n",
    "where we specify the location of the executable, the number of variables `n` and the name of the datafile proceeded by the `-i` flag. \n",
    "#### Note:\n",
    "- The datafile is assumed to be located in the `./input/data/` directory.\n",
    "- The filename should be provided without the `.dat` extension. "
   ]
  },
  {
   "cell_type": "code",
   "execution_count": 51,
   "id": "f41ad453",
   "metadata": {},
   "outputs": [],
   "source": [
    "n = 20\n",
    "datafile = f'my_data_n{n}_N1000'"
   ]
  },
  {
   "cell_type": "code",
   "execution_count": 52,
   "id": "62b1a85d",
   "metadata": {},
   "outputs": [],
   "source": [
    "saa_args = ('../bin/saa.exe', str(n), '-i', datafile) # the run command as an argument tuple"
   ]
  },
  {
   "cell_type": "code",
   "execution_count": 63,
   "id": "92497e20",
   "metadata": {
    "scrolled": false
   },
   "outputs": [
    {
     "name": "stdout",
     "output_type": "stream",
     "text": [
      "SIMULATED ANNEALING [STAND-ALONE VERSION - v20230513]\n",
      "\n",
      "- input file: my_data_n20_N1000\n",
      "- max iterations (stop): 50000 (10000)\n",
      "\n",
      "- loaded: ../input/data/my_data_n20_N1000.dat (1000 samples)\n",
      "\n",
      "- starting from independent partition\n",
      "- initial log-evidence: -7221.5\n",
      "\n",
      "best log-evidence: -7219.69\t@T = 100\n",
      "best log-evidence: -7218.75\t@T = 100\n",
      "best log-evidence: -7149.15\t@T = 100\n",
      "best log-evidence: -7145.65\t@T = 100\n",
      "best log-evidence: -7145.13\t@T = 100\n",
      "best log-evidence: -7140.09\t@T = 100\n",
      "best log-evidence: -7138.22\t@T = 100\n",
      "best log-evidence: -7131.15\t@T = 100\n",
      "best log-evidence: -7130.96\t@T = 100\n",
      "best log-evidence: -7058.05\t@T = 100\n",
      "best log-evidence: -7001.1\t@T = 100\n",
      "best log-evidence: -6948.11\t@T = 100\n",
      "best log-evidence: -6945.97\t@T = 100\n",
      "best log-evidence: -6939.64\t@T = 100\n",
      "best log-evidence: -6855.71\t@T = 100\n",
      "best log-evidence: -6841.75\t@T = 100\n",
      "best log-evidence: -6685.08\t@T = 100\n",
      "best log-evidence: -6569.83\t@T = 100\n",
      "best log-evidence: -6486.59\t@T = 100\n",
      "best log-evidence: -6474.81\t@T = 17.8091\n",
      "best log-evidence: -6472.99\t@T = 17.8091\n",
      "best log-evidence: -6400.46\t@T = 17.8091\n",
      "best log-evidence: -6223.94\t@T = 17.8091\n",
      "best log-evidence: -6003.63\t@T = 17.8091\n",
      "best log-evidence: -5964.3\t@T = 17.8091\n",
      "best log-evidence: -5947.88\t@T = 17.8091\n",
      "best log-evidence: -5945.63\t@T = 17.8091\n",
      "best log-evidence: -5915.58\t@T = 17.8091\n",
      "best log-evidence: -5823.16\t@T = 17.8091\n",
      "best log-evidence: -5771.54\t@T = 17.8091\n",
      "best log-evidence: -5763.81\t@T = 17.8091\n",
      "best log-evidence: -5759.49\t@T = 17.8091\n",
      "best log-evidence: -5734.52\t@T = 17.8091\n",
      "best log-evidence: -5453.91\t@T = 17.8091\n",
      "best log-evidence: -5338.69\t@T = 17.8091\n",
      "best log-evidence: -5288.01\t@T = 17.8091\n",
      "best log-evidence: -5282.47\t@T = 15.8647\n",
      "best log-evidence: -5275.74\t@T = 15.8647\n",
      "best log-evidence: -5268.32\t@T = 15.8647\n",
      "best log-evidence: -5182.42\t@T = 14.9096\n",
      "best log-evidence: -4928\t@T = 14.9096\n",
      "best log-evidence: -4661.07\t@T = 14.298\n",
      "\n",
      "- maximum iterations without improvement reached\n",
      "- iterations per second: 12864.6\n",
      "\n",
      "00000000001111100000 5\n",
      "00000111110000000000 5\n",
      "11111000000000000000 5\n",
      "00000000000000011111 5\n"
     ]
    }
   ],
   "source": [
    "# calling the algorithm\n",
    "saa = subprocess.Popen(saa_args, stdout = subprocess.PIPE)\n",
    "\n",
    "# parsing the output from the algorithm\n",
    "for line in saa.stdout:\n",
    "    print(line[:-1].decode('utf-8'))"
   ]
  },
  {
   "cell_type": "markdown",
   "id": "9dc93e59",
   "metadata": {},
   "source": [
    "### Loading an initial partition\n",
    "\n",
    "By default, the algorithm starts from an independent partition (each node in a separate community). The algorithm can also be started from a custom partition by loading a partition using the `-p` flag. An example community has been provided in the `./input/comms/` directory. \n",
    "\n",
    "#### Note:\n",
    "- The partition file is assumed to be located in the `./input/comms/` directory.\n",
    "- The filename should be provided without the `.dat` extension. \n",
    "- The file contains the assignment of each node as a binary string. For example, for `n=5`, the partition `[[0,1,3],[2,4]]` would be given by a file containing the strings: \n",
    "\n",
    "```\n",
    "01011\n",
    "10100\n",
    "```"
   ]
  },
  {
   "cell_type": "code",
   "execution_count": 69,
   "id": "5a46c17a",
   "metadata": {},
   "outputs": [],
   "source": [
    "comm_file = 'my_comms_n20'"
   ]
  },
  {
   "cell_type": "code",
   "execution_count": 70,
   "id": "9f2e5228",
   "metadata": {},
   "outputs": [],
   "source": [
    "saa_args = ('../bin/saa.exe', str(n), '-i', datafile, '-p', comm_file) # adding the -p flag and partition filename"
   ]
  },
  {
   "cell_type": "code",
   "execution_count": 71,
   "id": "5f033d47",
   "metadata": {},
   "outputs": [
    {
     "name": "stdout",
     "output_type": "stream",
     "text": [
      "SIMULATED ANNEALING [STAND-ALONE VERSION - v20230513]\n",
      "\n",
      "- input file: my_data_n20_N1000\n",
      "- input partition: my_comms_n20\n",
      "- max iterations (stop): 50000 (10000)\n",
      "\n",
      "- loaded: ../input/data/my_data_n20_N1000.dat (1000 samples)\n",
      "\n",
      "- loaded 6 communities\n",
      "- initial log-evidence: -5602.21\n",
      "\n",
      "best log-evidence: -5529.21\t@T = 17.8091\n",
      "best log-evidence: -5407.05\t@T = 17.8091\n",
      "best log-evidence: -5360.26\t@T = 15.8647\n",
      "best log-evidence: -5349.14\t@T = 15.8647\n",
      "best log-evidence: -5344.27\t@T = 15.8647\n",
      "best log-evidence: -5149.78\t@T = 15.8647\n",
      "best log-evidence: -5112.19\t@T = 15.8647\n",
      "best log-evidence: -4927.34\t@T = 14.9096\n",
      "best log-evidence: -4661.07\t@T = 14.9096\n",
      "\n",
      "- maximum iterations without improvement reached\n",
      "- iterations per second: 15129.8\n",
      "\n",
      "11111000000000000000 5\n",
      "00000111110000000000 5\n",
      "00000000001111100000 5\n",
      "00000000000000011111 5\n"
     ]
    }
   ],
   "source": [
    "# calling the algorithm\n",
    "saa = subprocess.Popen(saa_args, stdout = subprocess.PIPE)\n",
    "\n",
    "# parsing the output from the algorithm\n",
    "for line in saa.stdout:\n",
    "    print(line[:-1].decode('utf-8'))"
   ]
  },
  {
   "cell_type": "markdown",
   "id": "bd954164",
   "metadata": {},
   "source": [
    "### Starting from a random partition\n",
    "\n",
    "Besides loading a partition or starting from the independent partition, the algorithm can also be initialized with a random partition using the `-r` flag. Note that if a custom partition has been provided using the `-p` flag, the `-r` flag will be ignored."
   ]
  },
  {
   "cell_type": "code",
   "execution_count": 72,
   "id": "26d4f3b5",
   "metadata": {},
   "outputs": [],
   "source": [
    "saa_args = ('../bin/saa.exe', str(n), '-i', datafile, '-r') # adding the -r flag"
   ]
  },
  {
   "cell_type": "code",
   "execution_count": 74,
   "id": "ca6719fb",
   "metadata": {},
   "outputs": [
    {
     "name": "stdout",
     "output_type": "stream",
     "text": [
      "SIMULATED ANNEALING [STAND-ALONE VERSION - v20230513]\n",
      "\n",
      "- input file: my_data_n20_N1000\n",
      "- max iterations (stop): 50000 (10000)\n",
      "\n",
      "- loaded: ../input/data/my_data_n20_N1000.dat (1000 samples)\n",
      "\n",
      "- starting from random partition\n",
      "- generated community: 10111000010110100100\n",
      "- log-evidence: -2968\n",
      "\n",
      "- generated community: 00000110000000000000\n",
      "- log-evidence: -637.39\n",
      "\n",
      "- generated community: 00000001101000010001\n",
      "- log-evidence: -1728.6\n",
      "\n",
      "- generated community: 00000000000001001000\n",
      "- log-evidence: -731.355\n",
      "\n",
      "- generated community: 01000000000000000010\n",
      "- log-evidence: -707.454\n",
      "\n",
      "- generated 5 communities\n",
      "- initial log-evidence: -6772.8\n",
      "\n",
      "best log-evidence: -6718.08\t@T = 100\n",
      "best log-evidence: -6713.26\t@T = 100\n",
      "best log-evidence: -6687.17\t@T = 100\n",
      "best log-evidence: -6687.04\t@T = 100\n",
      "best log-evidence: -6681.66\t@T = 100\n",
      "best log-evidence: -6678.73\t@T = 100\n",
      "best log-evidence: -6665.03\t@T = 100\n",
      "best log-evidence: -6489.73\t@T = 100\n",
      "best log-evidence: -6474.76\t@T = 100\n",
      "best log-evidence: -6427\t@T = 100\n",
      "best log-evidence: -6263.59\t@T = 100\n",
      "best log-evidence: -6232.37\t@T = 100\n",
      "best log-evidence: -6203.64\t@T = 100\n",
      "best log-evidence: -6201.07\t@T = 17.8091\n",
      "best log-evidence: -6133.37\t@T = 17.8091\n",
      "best log-evidence: -6067.58\t@T = 17.8091\n",
      "best log-evidence: -6053.25\t@T = 17.8091\n",
      "best log-evidence: -5859.38\t@T = 17.8091\n",
      "best log-evidence: -5857.16\t@T = 17.8091\n",
      "best log-evidence: -5842.83\t@T = 17.8091\n",
      "best log-evidence: -5784.04\t@T = 17.8091\n",
      "best log-evidence: -5642.18\t@T = 17.8091\n",
      "best log-evidence: -5584.33\t@T = 17.8091\n",
      "best log-evidence: -5562.01\t@T = 17.8091\n",
      "best log-evidence: -5551.42\t@T = 15.8647\n",
      "best log-evidence: -5403.1\t@T = 15.8647\n",
      "best log-evidence: -5384.63\t@T = 15.8647\n",
      "best log-evidence: -5364.64\t@T = 15.8647\n",
      "best log-evidence: -5344.97\t@T = 15.8647\n",
      "best log-evidence: -5139.27\t@T = 15.8647\n",
      "best log-evidence: -4899.78\t@T = 15.8647\n",
      "best log-evidence: -4661.07\t@T = 15.8647\n",
      "\n",
      "- maximum iterations without improvement reached\n",
      "- iterations per second: 15155.7\n",
      "\n",
      "00000000001111100000 5\n",
      "00000000000000011111 5\n",
      "11111000000000000000 5\n",
      "00000111110000000000 5\n"
     ]
    }
   ],
   "source": [
    "# calling the algorithm\n",
    "saa = subprocess.Popen(saa_args, stdout = subprocess.PIPE)\n",
    "\n",
    "# parsing the output from the algorithm\n",
    "for line in saa.stdout:\n",
    "    print(line[:-1].decode('utf-8'))"
   ]
  },
  {
   "cell_type": "markdown",
   "id": "7a28ab1a",
   "metadata": {},
   "source": [
    "### Running greedy merging algorithm\n",
    "\n",
    "In some cases, the best partition can be found by greedily merging communities. In this case, the difference in log-evidence by merging a pair of communities is calculated for all pairs. The merger resulting in the largest increase is performed and the process repeats until no improvement is possible. \n",
    "\n",
    "This procedure can provide a good starting point for the simulated annealing algorithm and results in the optimal partition in some cases. To run the greedy merging algorithm before starting the simulated annealing algorithm, use the `-g` flag. \n",
    "\n",
    "- The greedy merging algorithm will be performed on the initial partition. \n",
    "- To use the algorithm as intended, start from an independent partition."
   ]
  },
  {
   "cell_type": "code",
   "execution_count": 75,
   "id": "fe2c428c",
   "metadata": {},
   "outputs": [],
   "source": [
    "saa_args = ('../bin/saa.exe', str(n), '-i', datafile, '-g') # adding the -g flag"
   ]
  },
  {
   "cell_type": "code",
   "execution_count": 77,
   "id": "163ed007",
   "metadata": {},
   "outputs": [
    {
     "name": "stdout",
     "output_type": "stream",
     "text": [
      "SIMULATED ANNEALING [STAND-ALONE VERSION - v20230513]\n",
      "\n",
      "- input file: my_data_n20_N1000\n",
      "- max iterations (stop): 50000 (10000)\n",
      "\n",
      "- loaded: ../input/data/my_data_n20_N1000.dat (1000 samples)\n",
      "\n",
      "- starting from independent partition\n",
      "- initial log-evidence: -7221.5\n",
      "\n",
      "- running greedy merging algorithm on 20 communities\n",
      "\n",
      "merging nodes: 5 and 7 | delta log-e: 120.736\n",
      "merging nodes: 5 and 9 | delta log-e: 173.209\n",
      "merging nodes: 5 and 6 | delta log-e: 188.219\n",
      "merging nodes: 5 and 8 | delta log-e: 198.06\n",
      "merging nodes: 10 and 13 | delta log-e: 108.766\n",
      "merging nodes: 10 and 11 | delta log-e: 165.238\n",
      "merging nodes: 10 and 14 | delta log-e: 191.872\n",
      "merging nodes: 10 and 12 | delta log-e: 205.933\n",
      "merging nodes: 1 and 2 | delta log-e: 99.1811\n",
      "merging nodes: 0 and 1 | delta log-e: 141.534\n",
      "merging nodes: 0 and 4 | delta log-e: 164.65\n",
      "merging nodes: 0 and 3 | delta log-e: 181.461\n",
      "merging nodes: 17 and 19 | delta log-e: 99.0759\n",
      "merging nodes: 15 and 17 | delta log-e: 132.652\n",
      "merging nodes: 15 and 16 | delta log-e: 188.142\n",
      "merging nodes: 15 and 18 | delta log-e: 201.707\n",
      "best log-evidence: -4661.07\t@T = 100\n",
      "\n",
      "- maximum iterations without improvement reached\n",
      "- iterations per second: 14231.5\n",
      "\n",
      "00000000000000011111 5\n",
      "00000000001111100000 5\n",
      "00000111110000000000 5\n",
      "11111000000000000000 5\n"
     ]
    }
   ],
   "source": [
    "# calling the algorithm\n",
    "saa = subprocess.Popen(saa_args, stdout = subprocess.PIPE)\n",
    "\n",
    "# parsing the output from the algorithm\n",
    "for line in saa.stdout:\n",
    "    print(line[:-1].decode('utf-8'))"
   ]
  },
  {
   "cell_type": "code",
   "execution_count": null,
   "id": "93f1fa24",
   "metadata": {},
   "outputs": [],
   "source": []
  }
 ],
 "metadata": {
  "kernelspec": {
   "display_name": "Python 3 (ipykernel)",
   "language": "python",
   "name": "python3"
  },
  "language_info": {
   "codemirror_mode": {
    "name": "ipython",
    "version": 3
   },
   "file_extension": ".py",
   "mimetype": "text/x-python",
   "name": "python",
   "nbconvert_exporter": "python",
   "pygments_lexer": "ipython3",
   "version": "3.10.11"
  }
 },
 "nbformat": 4,
 "nbformat_minor": 5
}
