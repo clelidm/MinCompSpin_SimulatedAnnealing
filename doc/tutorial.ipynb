{
 "cells": [
  {
   "cell_type": "code",
   "execution_count": 16,
   "id": "bb6be995",
   "metadata": {},
   "outputs": [],
   "source": [
    "import subprocess\n",
    "import os"
   ]
  },
  {
   "cell_type": "markdown",
   "id": "a7f5c601",
   "metadata": {},
   "source": [
    "Last updated: 13-05-2023\n",
    "\n",
    "## Simulated annealing algorithm for minimally complex models\n",
    "\n",
    "Before starting, make sure to compile the source code by running the `compile.bat` file in the root folder or by running the command \n",
    "\n",
    "`g++ -std=c++11 -O3 -Wall ./src/*.cpp -o ./bin/saa.exe`\n",
    "\n",
    "If the files have been downloaded from github, the latest binary file should be in the `./bin` folder.\n",
    "\n"
   ]
  },
  {
   "cell_type": "markdown",
   "id": "6e3ebad3",
   "metadata": {},
   "source": [
    "### Running the algorithm\n",
    "\n",
    "Some example data has been provided in the `./input/data` folder. To run the algorithm with all default settings on the dataset `./input/data/my_data_n20_N1000.dat` we run the following command: \n",
    "\n",
    "`[RELATIVE_PATH]/saa.exe n -i DATAFILE`\n",
    "\n",
    "where we specify the location of the executable, the number of variables `n` and the name of the datafile proceeded by the `-i` flag."
   ]
  },
  {
   "cell_type": "code",
   "execution_count": 43,
   "id": "4e272e1b",
   "metadata": {},
   "outputs": [],
   "source": [
    "n = 20\n",
    "datafile = f'../input/data/my_data_n{n}_N1000.dat'"
   ]
  },
  {
   "cell_type": "code",
   "execution_count": 44,
   "id": "a059133b",
   "metadata": {},
   "outputs": [],
   "source": [
    "saa_args = ('../bin/saa.exe', str(n), '-i', datafile) # the run command as an argument tuple"
   ]
  },
  {
   "cell_type": "code",
   "execution_count": 46,
   "id": "ebd5816c",
   "metadata": {
    "scrolled": false
   },
   "outputs": [
    {
     "name": "stdout",
     "output_type": "stream",
     "text": [
      "SIMULATED ANNEALING [STAND-ALONE VERSION, UNUSED_BITS]\n",
      "input file: ../input/data/my_data_n20_N1000.dat\n",
      "max iterations (stop): 50000 (10000)\n",
      "loaded: ../input/data/my_data_n20_N1000.dat\n",
      "1000 samples\n",
      "New community: 00000000000000000001\n",
      "New community: 00000000000000000010\n",
      "New community: 00000000000000000100\n",
      "New community: 00000000000000001000\n",
      "New community: 00000000000000010000\n",
      "New community: 00000000000000100000\n",
      "New community: 00000000000001000000\n",
      "New community: 00000000000010000000\n",
      "New community: 00000000000100000000\n",
      "New community: 00000000001000000000\n",
      "New community: 00000000010000000000\n",
      "New community: 00000000100000000000\n",
      "New community: 00000001000000000000\n",
      "New community: 00000010000000000000\n",
      "New community: 00000100000000000000\n",
      "New community: 00001000000000000000\n",
      "New community: 00010000000000000000\n",
      "New community: 00100000000000000000\n",
      "New community: 01000000000000000000\n",
      "New community: 10000000000000000000\n",
      "Initial log-evidence: -7221.5\n",
      "Best log-evidence: -7159.63\t@T = 100\n",
      "Best log-evidence: -7150.69\t@T = 100\n",
      "Best log-evidence: -7101.84\t@T = 100\n",
      "Best log-evidence: -6994.46\t@T = 100\n",
      "Best log-evidence: -6912.35\t@T = 100\n",
      "Best log-evidence: -6908.46\t@T = 100\n",
      "Best log-evidence: -6906.01\t@T = 100\n",
      "Best log-evidence: -6740.77\t@T = 100\n",
      "Best log-evidence: -6694.37\t@T = 100\n",
      "Best log-evidence: -6594.47\t@T = 17.8091\n",
      "Best log-evidence: -6588.11\t@T = 17.8091\n",
      "Best log-evidence: -6557.59\t@T = 17.8091\n",
      "Best log-evidence: -6515.98\t@T = 17.8091\n",
      "Best log-evidence: -6435.59\t@T = 17.8091\n",
      "Best log-evidence: -6294.95\t@T = 17.8091\n",
      "Best log-evidence: -6217.58\t@T = 17.8091\n",
      "Best log-evidence: -6124.68\t@T = 17.8091\n",
      "Best log-evidence: -6089.6\t@T = 17.8091\n",
      "Best log-evidence: -5820.88\t@T = 17.8091\n",
      "Best log-evidence: -5627.66\t@T = 17.8091\n",
      "Best log-evidence: -5606.52\t@T = 17.8091\n",
      "Best log-evidence: -5549.83\t@T = 17.8091\n",
      "Best log-evidence: -5495.61\t@T = 17.8091\n",
      "Best log-evidence: -5481.79\t@T = 17.8091\n",
      "Best log-evidence: -5463.09\t@T = 15.8647\n",
      "Best log-evidence: -5439.71\t@T = 15.8647\n",
      "Best log-evidence: -5383\t@T = 15.8647\n",
      "Best log-evidence: -5333.25\t@T = 15.8647\n",
      "Best log-evidence: -5292.45\t@T = 14.9096\n",
      "Best log-evidence: -5070.78\t@T = 14.9096\n",
      "Best log-evidence: -5058.95\t@T = 13.8569\n",
      "Best log-evidence: -4873.82\t@T = 13.8569\n",
      "Best log-evidence: -4661.07\t@T = 13.2406\n",
      "Maximum iterations without improvement reached.\n",
      "Iterations per second: 14699.6\n",
      "00000000000000011111 5\n",
      "00000111110000000000 5\n",
      "00000000001111100000 5\n",
      "11111000000000000000 5\n"
     ]
    }
   ],
   "source": [
    "# calling the algorithm\n",
    "saa = subprocess.Popen(saa_args, stdout = subprocess.PIPE)\n",
    "\n",
    "# parsing the output from the algorithm\n",
    "for line in saa.stdout:\n",
    "    print(line[:-1].decode('utf-8'))"
   ]
  },
  {
   "cell_type": "code",
   "execution_count": null,
   "id": "691c88cd",
   "metadata": {},
   "outputs": [],
   "source": []
  }
 ],
 "metadata": {
  "kernelspec": {
   "display_name": "Python 3 (ipykernel)",
   "language": "python",
   "name": "python3"
  },
  "language_info": {
   "codemirror_mode": {
    "name": "ipython",
    "version": 3
   },
   "file_extension": ".py",
   "mimetype": "text/x-python",
   "name": "python",
   "nbconvert_exporter": "python",
   "pygments_lexer": "ipython3",
   "version": "3.10.11"
  }
 },
 "nbformat": 4,
 "nbformat_minor": 5
}
