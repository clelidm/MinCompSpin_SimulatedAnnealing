{
 "cells": [
  {
   "cell_type": "code",
   "execution_count": 16,
   "id": "bb6be995",
   "metadata": {},
   "outputs": [],
   "source": [
    "import subprocess\n",
    "import os"
   ]
  },
  {
   "cell_type": "markdown",
   "id": "a7f5c601",
   "metadata": {},
   "source": [
    "Last updated: 13-05-2023\n",
    "\n",
    "## Simulated annealing algorithm for minimally complex models\n",
    "\n",
    "Before starting, make sure to compile the source code by running the `compile.bat` file in the root folder or by running the command \n",
    "\n",
    "`g++ -std=c++11 -O3 -Wall ./src/*.cpp -o ./bin/saa.exe`\n",
    "\n",
    "If the files have been downloaded from github, the latest binary file should be in the `./bin` folder.\n",
    "\n"
   ]
  },
  {
   "cell_type": "markdown",
   "id": "66fd688d",
   "metadata": {},
   "source": [
    "### Running the algorithm\n",
    "\n",
    "Some example data has been provided in the `./input/data/` folder. To run the algorithm with all default settings on the dataset `./input/data/my_data_n20_N1000.dat` we run the following command: \n",
    "\n",
    "`[RELATIVE_PATH]/saa.exe n -i DATAFILE`\n",
    "\n",
    "where we specify the location of the executable, the number of variables `n` and the name of the datafile proceeded by the `-i` flag. \n",
    "#### Note:\n",
    "- The datafile is assumed to be located in the `./input/data/` directory.\n",
    "- The filename should be provided without the `.dat` extension. "
   ]
  },
  {
   "cell_type": "code",
   "execution_count": 51,
   "id": "8d70c77a",
   "metadata": {},
   "outputs": [],
   "source": [
    "n = 20\n",
    "datafile = f'my_data_n{n}_N1000'"
   ]
  },
  {
   "cell_type": "code",
   "execution_count": 52,
   "id": "93d6bf93",
   "metadata": {},
   "outputs": [],
   "source": [
    "saa_args = ('../bin/saa.exe', str(n), '-i', datafile) # the run command as an argument tuple"
   ]
  },
  {
   "cell_type": "code",
   "execution_count": 60,
   "id": "b6d4f321",
   "metadata": {
    "scrolled": false
   },
   "outputs": [
    {
     "name": "stdout",
     "output_type": "stream",
     "text": [
      "SIMULATED ANNEALING [STAND-ALONE VERSION - v20230513]\n",
      "\n",
      "- input file: my_data_n20_N1000\n",
      "- max iterations (stop): 50000 (10000)\n",
      "\n",
      "- loaded: ../input/data/my_data_n20_N1000.dat (1000 samples)\n",
      "\n",
      "- starting from independent partition\n",
      "- initial log-evidence: -7221.5\n",
      "\n",
      "Best log-evidence: -7128.76\t@T = 100\n",
      "Best log-evidence: -7100.78\t@T = 100\n",
      "Best log-evidence: -7085.03\t@T = 100\n",
      "Best log-evidence: -7084.63\t@T = 100\n",
      "Best log-evidence: -7079.3\t@T = 100\n",
      "Best log-evidence: -7079.11\t@T = 100\n",
      "Best log-evidence: -7037.34\t@T = 100\n",
      "Best log-evidence: -6890.26\t@T = 100\n",
      "Best log-evidence: -6809.17\t@T = 100\n",
      "Best log-evidence: -6738.42\t@T = 100\n",
      "Best log-evidence: -6682.14\t@T = 100\n",
      "Best log-evidence: -6543.85\t@T = 100\n",
      "Best log-evidence: -6379.39\t@T = 100\n",
      "Best log-evidence: -6235.71\t@T = 100\n",
      "Best log-evidence: -6147.48\t@T = 100\n",
      "Best log-evidence: -6131.51\t@T = 100\n",
      "Best log-evidence: -6121.74\t@T = 17.8091\n",
      "Best log-evidence: -6103.39\t@T = 17.8091\n",
      "Best log-evidence: -6088.51\t@T = 17.8091\n",
      "Best log-evidence: -6061.54\t@T = 17.8091\n",
      "Best log-evidence: -5972.36\t@T = 17.8091\n",
      "Best log-evidence: -5915.19\t@T = 17.8091\n",
      "Best log-evidence: -5817.93\t@T = 17.8091\n",
      "Best log-evidence: -5599.99\t@T = 17.8091\n",
      "Best log-evidence: -5284.96\t@T = 17.8091\n",
      "Best log-evidence: -5284.65\t@T = 17.8091\n",
      "Best log-evidence: -5242.07\t@T = 15.8647\n",
      "Best log-evidence: -5058.87\t@T = 15.8647\n",
      "Best log-evidence: -4961.87\t@T = 14.9096\n",
      "Best log-evidence: -4661.07\t@T = 14.9096\n",
      "Maximum iterations without improvement reached.\n",
      "Iterations per second: 15674.8\n",
      "00000111110000000000 5\n",
      "11111000000000000000 5\n",
      "00000000001111100000 5\n",
      "00000000000000011111 5\n"
     ]
    }
   ],
   "source": [
    "# calling the algorithm\n",
    "saa = subprocess.Popen(saa_args, stdout = subprocess.PIPE)\n",
    "\n",
    "# parsing the output from the algorithm\n",
    "for line in saa.stdout:\n",
    "    print(line[:-1].decode('utf-8'))"
   ]
  },
  {
   "cell_type": "code",
   "execution_count": null,
   "id": "d2e1abb5",
   "metadata": {},
   "outputs": [],
   "source": []
  }
 ],
 "metadata": {
  "kernelspec": {
   "display_name": "Python 3 (ipykernel)",
   "language": "python",
   "name": "python3"
  },
  "language_info": {
   "codemirror_mode": {
    "name": "ipython",
    "version": 3
   },
   "file_extension": ".py",
   "mimetype": "text/x-python",
   "name": "python",
   "nbconvert_exporter": "python",
   "pygments_lexer": "ipython3",
   "version": "3.10.11"
  }
 },
 "nbformat": 4,
 "nbformat_minor": 5
}
