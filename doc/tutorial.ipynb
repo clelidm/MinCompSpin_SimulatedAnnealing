{
 "cells": [
  {
   "cell_type": "code",
   "execution_count": 1,
   "id": "bb6be995",
   "metadata": {},
   "outputs": [],
   "source": [
    "import subprocess\n",
    "import os"
   ]
  },
  {
   "cell_type": "markdown",
   "id": "a7f5c601",
   "metadata": {},
   "source": [
    "We will first make sure that we compile the latest version. This should be run with a clean jupyter kernel to ensure that we are in the correct working directory.  "
   ]
  },
  {
   "cell_type": "code",
   "execution_count": 3,
   "id": "d4722d5a",
   "metadata": {},
   "outputs": [
    {
     "data": {
      "text/plain": [
       "(b'\\r\\nC:\\\\Users\\\\HP\\\\Documents\\\\GitHub\\\\MinCompSpin_SimulatedAnnealing>g++ -std=c++11 -O3 -Wall ./src/*.cpp -o ./bin/saa.exe \\r\\n\\r\\nC:\\\\Users\\\\HP\\\\Documents\\\\GitHub\\\\MinCompSpin_SimulatedAnnealing>pause\\r\\nPress any key to continue . . . \\r\\n',\n",
       " None)"
      ]
     },
     "execution_count": 3,
     "metadata": {},
     "output_type": "execute_result"
    }
   ],
   "source": [
    "os.chdir('../')\n",
    "compile_script = subprocess.Popen('\"./compile.bat\"', stdout = subprocess.PIPE)\n",
    "compile_script.communicate()"
   ]
  },
  {
   "cell_type": "code",
   "execution_count": null,
   "id": "c17f2a64",
   "metadata": {},
   "outputs": [],
   "source": []
  }
 ],
 "metadata": {
  "kernelspec": {
   "display_name": "Python 3 (ipykernel)",
   "language": "python",
   "name": "python3"
  },
  "language_info": {
   "codemirror_mode": {
    "name": "ipython",
    "version": 3
   },
   "file_extension": ".py",
   "mimetype": "text/x-python",
   "name": "python",
   "nbconvert_exporter": "python",
   "pygments_lexer": "ipython3",
   "version": "3.10.11"
  }
 },
 "nbformat": 4,
 "nbformat_minor": 5
}
